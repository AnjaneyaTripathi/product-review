{
  "nbformat": 4,
  "nbformat_minor": 0,
  "metadata": {
    "colab": {
      "name": "NLP_tweepy.ipynb",
      "provenance": []
    },
    "kernelspec": {
      "name": "python3",
      "display_name": "Python 3"
    },
    "language_info": {
      "name": "python"
    }
  },
  "cells": [
    {
      "cell_type": "code",
      "metadata": {
        "id": "naxk4P93OePf"
      },
      "source": [
        "!pip install selenium\n",
        "!pip install tweepy\n",
        "\n",
        "import numpy as np \n",
        "import pandas as pd \n",
        "import matplotlib.pyplot as plt \n",
        "import seaborn as sns\n",
        "import re\n",
        "import time\n",
        "import string\n",
        "import warnings\n",
        "\n",
        "\n",
        "# To mock web-browser and scrap tweets\n",
        "from selenium import webdriver\n",
        "from selenium.webdriver.common.keys import Keys\n",
        "\n",
        "# To consume Twitter's API\n",
        "import tweepy\n",
        "from tweepy import OAuthHandler \n",
        "\n",
        "# To identify the sentiment of text\n",
        "from textblob import TextBlob\n",
        "\n",
        "# for showing all the plots inline\n",
        "%matplotlib inline"
      ],
      "execution_count": null,
      "outputs": []
    },
    {
      "cell_type": "code",
      "metadata": {
        "id": "FnHFbE1gPKQu"
      },
      "source": [
        "# keys and tokens from the Twitter Dev Console\n",
        "consumer_key = 'Sec3MvclRIx2RVlgu9l0SJX6D'\n",
        "consumer_secret = 'ayoPNWtBm7fWpMBoK6EwRmegu3SW8Rw9mzJkottkv97quPe941'\n",
        "access_token = '736550752760406018-so5CPJrEbJKb3c3Pq8va3VFr0yk4S0E'\n",
        "access_token_secret = 'Cgr8tz0h6FTU7kxAjDzpHnjffNTHxWsBytXnu4Ihd1TFb'\n",
        "\n",
        "\n",
        "class TwitterClient(object): \n",
        "    def __init__(self): \n",
        "        #Initialization method. \n",
        "        try: \n",
        "            # create OAuthHandler object \n",
        "            auth = OAuthHandler(consumer_key, consumer_secret) \n",
        "            # set access token and secret \n",
        "            auth.set_access_token(access_token, access_token_secret) \n",
        "            # create tweepy API object to fetch tweets \n",
        "            # add hyper parameter 'proxy' if executing from behind proxy \"proxy='http://172.22.218.218:8085'\"\n",
        "            self.api = tweepy.API(auth, wait_on_rate_limit=True, wait_on_rate_limit_notify=True)\n",
        "            \n",
        "        except tweepy.TweepError as e:\n",
        "            print(f\"Error: Tweeter Authentication Failed - \\n{str(e)}\")\n",
        "\n",
        "    def get_tweets(self, query, maxTweets = 1000):\n",
        "        #Function to fetch tweets. \n",
        "        # empty list to store parsed tweets \n",
        "        tweets = [] \n",
        "        sinceId = None\n",
        "        max_id = -1\n",
        "        tweetCount = 0\n",
        "        tweetsPerQry = 100\n",
        "\n",
        "        while tweetCount < maxTweets:\n",
        "            try:\n",
        "                if (max_id <= 0):\n",
        "                    if (not sinceId):\n",
        "                        new_tweets = self.api.search(q=query, count=tweetsPerQry)\n",
        "                    else:\n",
        "                        new_tweets = self.api.search(q=query, count=tweetsPerQry,\n",
        "                                                since_id=sinceId)\n",
        "                else:\n",
        "                    if (not sinceId):\n",
        "                        new_tweets = self.api.search(q=query, count=tweetsPerQry,\n",
        "                                                max_id=str(max_id - 1))\n",
        "                    else:\n",
        "                        new_tweets = self.api.search(q=query, count=tweetsPerQry,\n",
        "                                                max_id=str(max_id - 1),\n",
        "                                                since_id=sinceId)\n",
        "                if not new_tweets:\n",
        "                    print(\"No more tweets found\")\n",
        "                    break\n",
        "\n",
        "                for tweet in new_tweets:\n",
        "                    parsed_tweet = {} \n",
        "                    parsed_tweet['tweets'] = tweet.text \n",
        "\n",
        "                    # appending parsed tweet to tweets list \n",
        "                    if tweet.retweet_count > 0: \n",
        "                        # if tweet has retweets, ensure that it is appended only once \n",
        "                        if parsed_tweet not in tweets: \n",
        "                            tweets.append(parsed_tweet) \n",
        "                    else: \n",
        "                        tweets.append(parsed_tweet) \n",
        "                        \n",
        "                tweetCount += len(new_tweets)\n",
        "                #print(\"Downloaded {0} tweets\".format(tweetCount))\n",
        "                max_id = new_tweets[-1].id\n",
        "\n",
        "            except tweepy.TweepError as e:\n",
        "                # Just exit if any error\n",
        "                print(\"Tweepy error : \" + str(e))\n",
        "                break\n",
        "        \n",
        "        return pd.DataFrame(tweets)"
      ],
      "execution_count": 17,
      "outputs": []
    },
    {
      "cell_type": "code",
      "metadata": {
        "colab": {
          "base_uri": "https://localhost:8080/",
          "height": 373
        },
        "id": "2fC0dDHyO141",
        "outputId": "be39e003-504a-4259-aea5-3b58ee0f5bba"
      },
      "source": [
        "twitter_client = TwitterClient()\n",
        "\n",
        "# calling function to get tweets\n",
        "tweets_df = twitter_client.get_tweets('Trump', maxTweets=1000)\n",
        "print(f'tweets_df Shape - {tweets_df.shape}')\n",
        "tweets_df.head(10)"
      ],
      "execution_count": 19,
      "outputs": [
        {
          "output_type": "stream",
          "text": [
            "tweets_df Shape - (623, 1)\n"
          ],
          "name": "stdout"
        },
        {
          "output_type": "execute_result",
          "data": {
            "text/html": [
              "<div>\n",
              "<style scoped>\n",
              "    .dataframe tbody tr th:only-of-type {\n",
              "        vertical-align: middle;\n",
              "    }\n",
              "\n",
              "    .dataframe tbody tr th {\n",
              "        vertical-align: top;\n",
              "    }\n",
              "\n",
              "    .dataframe thead th {\n",
              "        text-align: right;\n",
              "    }\n",
              "</style>\n",
              "<table border=\"1\" class=\"dataframe\">\n",
              "  <thead>\n",
              "    <tr style=\"text-align: right;\">\n",
              "      <th></th>\n",
              "      <th>tweets</th>\n",
              "    </tr>\n",
              "  </thead>\n",
              "  <tbody>\n",
              "    <tr>\n",
              "      <th>0</th>\n",
              "      <td>RT @TheOfficerTatum: Dang I miss Trump!!</td>\n",
              "    </tr>\n",
              "    <tr>\n",
              "      <th>1</th>\n",
              "      <td>RT @AdamParkhomenko: Remember when Trump relea...</td>\n",
              "    </tr>\n",
              "    <tr>\n",
              "      <th>2</th>\n",
              "      <td>RT @djrothkopf: This is a story of mass murder...</td>\n",
              "    </tr>\n",
              "    <tr>\n",
              "      <th>3</th>\n",
              "      <td>RT @DonLew87: 2/2 Mukasey quit representing Pi...</td>\n",
              "    </tr>\n",
              "    <tr>\n",
              "      <th>4</th>\n",
              "      <td>RT @RVAwonk: Wow. Trump appointees in HHS priv...</td>\n",
              "    </tr>\n",
              "    <tr>\n",
              "      <th>5</th>\n",
              "      <td>.@Sen_JoeManchin should immediately resign for...</td>\n",
              "    </tr>\n",
              "    <tr>\n",
              "      <th>6</th>\n",
              "      <td>RT @naretevduorp: Today, (everyday), the mains...</td>\n",
              "    </tr>\n",
              "    <tr>\n",
              "      <th>7</th>\n",
              "      <td>RT @brianklaas: Biden is proposing tax increas...</td>\n",
              "    </tr>\n",
              "    <tr>\n",
              "      <th>8</th>\n",
              "      <td>RT @Eli_Cache: @StevenTDennis Is there an expl...</td>\n",
              "    </tr>\n",
              "    <tr>\n",
              "      <th>9</th>\n",
              "      <td>RT @TaxReformExpert: President Trump created t...</td>\n",
              "    </tr>\n",
              "  </tbody>\n",
              "</table>\n",
              "</div>"
            ],
            "text/plain": [
              "                                              tweets\n",
              "0           RT @TheOfficerTatum: Dang I miss Trump!!\n",
              "1  RT @AdamParkhomenko: Remember when Trump relea...\n",
              "2  RT @djrothkopf: This is a story of mass murder...\n",
              "3  RT @DonLew87: 2/2 Mukasey quit representing Pi...\n",
              "4  RT @RVAwonk: Wow. Trump appointees in HHS priv...\n",
              "5  .@Sen_JoeManchin should immediately resign for...\n",
              "6  RT @naretevduorp: Today, (everyday), the mains...\n",
              "7  RT @brianklaas: Biden is proposing tax increas...\n",
              "8  RT @Eli_Cache: @StevenTDennis Is there an expl...\n",
              "9  RT @TaxReformExpert: President Trump created t..."
            ]
          },
          "metadata": {
            "tags": []
          },
          "execution_count": 19
        }
      ]
    },
    {
      "cell_type": "code",
      "metadata": {
        "colab": {
          "base_uri": "https://localhost:8080/"
        },
        "id": "68sd8ItAP8kB",
        "outputId": "625d9003-eb37-468d-b06c-3482536762ee"
      },
      "source": [
        "tweets_df.iloc[0]"
      ],
      "execution_count": 20,
      "outputs": [
        {
          "output_type": "execute_result",
          "data": {
            "text/plain": [
              "tweets    RT @TheOfficerTatum: Dang I miss Trump!!\n",
              "Name: 0, dtype: object"
            ]
          },
          "metadata": {
            "tags": []
          },
          "execution_count": 20
        }
      ]
    },
    {
      "cell_type": "code",
      "metadata": {
        "id": "77ci_HfcRiga"
      },
      "source": [
        "def fetch_sentiment_using_textblob(text):\n",
        "    analysis = TextBlob(text)\n",
        "    return 'positive' if analysis.sentiment.polarity >= 0 else 'negative'"
      ],
      "execution_count": 29,
      "outputs": []
    },
    {
      "cell_type": "code",
      "metadata": {
        "colab": {
          "base_uri": "https://localhost:8080/",
          "height": 110
        },
        "id": "DcpoIhWIRlOK",
        "outputId": "ea6950c1-6681-45c6-f815-489832c599e8"
      },
      "source": [
        "sentiments_using_textblob = tweets_df.tweets.apply(lambda tweet: fetch_sentiment_using_textblob(tweet))\n",
        "pd.DataFrame(sentiments_using_textblob.value_counts())"
      ],
      "execution_count": 30,
      "outputs": [
        {
          "output_type": "execute_result",
          "data": {
            "text/html": [
              "<div>\n",
              "<style scoped>\n",
              "    .dataframe tbody tr th:only-of-type {\n",
              "        vertical-align: middle;\n",
              "    }\n",
              "\n",
              "    .dataframe tbody tr th {\n",
              "        vertical-align: top;\n",
              "    }\n",
              "\n",
              "    .dataframe thead th {\n",
              "        text-align: right;\n",
              "    }\n",
              "</style>\n",
              "<table border=\"1\" class=\"dataframe\">\n",
              "  <thead>\n",
              "    <tr style=\"text-align: right;\">\n",
              "      <th></th>\n",
              "      <th>tweets</th>\n",
              "    </tr>\n",
              "  </thead>\n",
              "  <tbody>\n",
              "    <tr>\n",
              "      <th>positive</th>\n",
              "      <td>505</td>\n",
              "    </tr>\n",
              "    <tr>\n",
              "      <th>negative</th>\n",
              "      <td>118</td>\n",
              "    </tr>\n",
              "  </tbody>\n",
              "</table>\n",
              "</div>"
            ],
            "text/plain": [
              "          tweets\n",
              "positive     505\n",
              "negative     118"
            ]
          },
          "metadata": {
            "tags": []
          },
          "execution_count": 30
        }
      ]
    }
  ]
}